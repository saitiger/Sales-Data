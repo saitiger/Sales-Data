{
 "cells": [
  {
   "cell_type": "code",
   "execution_count": 1,
   "id": "1b7db17a",
   "metadata": {},
   "outputs": [],
   "source": [
    "import pandas as pd"
   ]
  },
  {
   "cell_type": "code",
   "execution_count": 8,
   "id": "4951f265",
   "metadata": {},
   "outputs": [],
   "source": [
    "df = pd.read_excel('Sales Analysis.xlsx')"
   ]
  },
  {
   "cell_type": "code",
   "execution_count": 16,
   "id": "2fd6542d",
   "metadata": {},
   "outputs": [],
   "source": [
    "df.rename(columns = {\"Sales ('000, USD)\":\"Sales\"},inplace = True)"
   ]
  },
  {
   "cell_type": "code",
   "execution_count": 12,
   "id": "ad1c8e1f",
   "metadata": {},
   "outputs": [
    {
     "data": {
      "text/plain": [
       "Order ID                      int64\n",
       "Customer Name                object\n",
       "Product                      object\n",
       "Region                       object\n",
       "Sales ('000, USD)             int64\n",
       "Registered At        datetime64[ns]\n",
       "Purchased At         datetime64[ns]\n",
       "Refunded                       bool\n",
       "Origin                       object\n",
       "dtype: object"
      ]
     },
     "execution_count": 12,
     "metadata": {},
     "output_type": "execute_result"
    }
   ],
   "source": [
    "df.dtypes"
   ]
  },
  {
   "cell_type": "code",
   "execution_count": 10,
   "id": "3b2ef0fb",
   "metadata": {},
   "outputs": [
    {
     "data": {
      "text/plain": [
       "social            35\n",
       "organic_search    31\n",
       "paid_search       28\n",
       "unknown           16\n",
       "email             14\n",
       "direct_traffic    13\n",
       "referral           6\n",
       "display            4\n",
       "other              3\n",
       "Name: Origin, dtype: int64"
      ]
     },
     "execution_count": 10,
     "metadata": {},
     "output_type": "execute_result"
    }
   ],
   "source": [
    "df['Origin'].value_counts()"
   ]
  },
  {
   "cell_type": "code",
   "execution_count": 11,
   "id": "01eaadf3",
   "metadata": {},
   "outputs": [
    {
     "data": {
      "text/html": [
       "<div>\n",
       "<style scoped>\n",
       "    .dataframe tbody tr th:only-of-type {\n",
       "        vertical-align: middle;\n",
       "    }\n",
       "\n",
       "    .dataframe tbody tr th {\n",
       "        vertical-align: top;\n",
       "    }\n",
       "\n",
       "    .dataframe thead th {\n",
       "        text-align: right;\n",
       "    }\n",
       "</style>\n",
       "<table border=\"1\" class=\"dataframe\">\n",
       "  <thead>\n",
       "    <tr style=\"text-align: right;\">\n",
       "      <th></th>\n",
       "      <th>Order ID</th>\n",
       "      <th>Sales ('000, USD)</th>\n",
       "    </tr>\n",
       "  </thead>\n",
       "  <tbody>\n",
       "    <tr>\n",
       "      <th>count</th>\n",
       "      <td>150.000000</td>\n",
       "      <td>150.000000</td>\n",
       "    </tr>\n",
       "    <tr>\n",
       "      <th>mean</th>\n",
       "      <td>76.040000</td>\n",
       "      <td>289.033333</td>\n",
       "    </tr>\n",
       "    <tr>\n",
       "      <th>std</th>\n",
       "      <td>44.358346</td>\n",
       "      <td>127.018860</td>\n",
       "    </tr>\n",
       "    <tr>\n",
       "      <th>min</th>\n",
       "      <td>1.000000</td>\n",
       "      <td>100.000000</td>\n",
       "    </tr>\n",
       "    <tr>\n",
       "      <th>25%</th>\n",
       "      <td>38.250000</td>\n",
       "      <td>200.000000</td>\n",
       "    </tr>\n",
       "    <tr>\n",
       "      <th>50%</th>\n",
       "      <td>75.500000</td>\n",
       "      <td>300.000000</td>\n",
       "    </tr>\n",
       "    <tr>\n",
       "      <th>75%</th>\n",
       "      <td>113.750000</td>\n",
       "      <td>350.000000</td>\n",
       "    </tr>\n",
       "    <tr>\n",
       "      <th>max</th>\n",
       "      <td>190.000000</td>\n",
       "      <td>550.000000</td>\n",
       "    </tr>\n",
       "  </tbody>\n",
       "</table>\n",
       "</div>"
      ],
      "text/plain": [
       "         Order ID  Sales ('000, USD)\n",
       "count  150.000000         150.000000\n",
       "mean    76.040000         289.033333\n",
       "std     44.358346         127.018860\n",
       "min      1.000000         100.000000\n",
       "25%     38.250000         200.000000\n",
       "50%     75.500000         300.000000\n",
       "75%    113.750000         350.000000\n",
       "max    190.000000         550.000000"
      ]
     },
     "execution_count": 11,
     "metadata": {},
     "output_type": "execute_result"
    }
   ],
   "source": [
    "df.describe()"
   ]
  },
  {
   "cell_type": "code",
   "execution_count": 17,
   "id": "e65d72ab",
   "metadata": {},
   "outputs": [
    {
     "data": {
      "text/plain": [
       "Region\n",
       "Central     7755\n",
       "East       11960\n",
       "North       6775\n",
       "South       7695\n",
       "West        9170\n",
       "Name: Sales, dtype: int64"
      ]
     },
     "execution_count": 17,
     "metadata": {},
     "output_type": "execute_result"
    }
   ],
   "source": [
    "df.groupby('Region')['Sales'].sum()"
   ]
  },
  {
   "cell_type": "code",
   "execution_count": 19,
   "id": "646b3a20",
   "metadata": {},
   "outputs": [
    {
     "data": {
      "text/plain": [
       "Origin\n",
       "direct_traffic     3160\n",
       "display            1040\n",
       "email              3990\n",
       "organic_search     9350\n",
       "other               600\n",
       "paid_search        8475\n",
       "referral           1335\n",
       "social            10280\n",
       "unknown            5125\n",
       "Name: Sales, dtype: int64"
      ]
     },
     "execution_count": 19,
     "metadata": {},
     "output_type": "execute_result"
    }
   ],
   "source": [
    "df.groupby('Origin')['Sales'].sum()"
   ]
  },
  {
   "cell_type": "code",
   "execution_count": 21,
   "id": "bedf3dc3",
   "metadata": {},
   "outputs": [
    {
     "data": {
      "text/plain": [
       "B    28\n",
       "G    24\n",
       "F    24\n",
       "C    22\n",
       "D    20\n",
       "A    18\n",
       "E    14\n",
       "Name: Product, dtype: int64"
      ]
     },
     "execution_count": 21,
     "metadata": {},
     "output_type": "execute_result"
    }
   ],
   "source": [
    "df['Product'].value_counts()"
   ]
  },
  {
   "cell_type": "code",
   "execution_count": 26,
   "id": "c17066bb",
   "metadata": {},
   "outputs": [
    {
     "data": {
      "text/html": [
       "<div>\n",
       "<style scoped>\n",
       "    .dataframe tbody tr th:only-of-type {\n",
       "        vertical-align: middle;\n",
       "    }\n",
       "\n",
       "    .dataframe tbody tr th {\n",
       "        vertical-align: top;\n",
       "    }\n",
       "\n",
       "    .dataframe thead th {\n",
       "        text-align: right;\n",
       "    }\n",
       "</style>\n",
       "<table border=\"1\" class=\"dataframe\">\n",
       "  <thead>\n",
       "    <tr style=\"text-align: right;\">\n",
       "      <th></th>\n",
       "      <th>Region</th>\n",
       "      <th>Product</th>\n",
       "    </tr>\n",
       "    <tr>\n",
       "      <th>Product</th>\n",
       "      <th></th>\n",
       "      <th></th>\n",
       "    </tr>\n",
       "  </thead>\n",
       "  <tbody>\n",
       "    <tr>\n",
       "      <th>A</th>\n",
       "      <td>1</td>\n",
       "      <td>1</td>\n",
       "    </tr>\n",
       "    <tr>\n",
       "      <th>B</th>\n",
       "      <td>3</td>\n",
       "      <td>3</td>\n",
       "    </tr>\n",
       "    <tr>\n",
       "      <th>C</th>\n",
       "      <td>1</td>\n",
       "      <td>1</td>\n",
       "    </tr>\n",
       "    <tr>\n",
       "      <th>F</th>\n",
       "      <td>2</td>\n",
       "      <td>2</td>\n",
       "    </tr>\n",
       "  </tbody>\n",
       "</table>\n",
       "</div>"
      ],
      "text/plain": [
       "         Region  Product\n",
       "Product                 \n",
       "A             1        1\n",
       "B             3        3\n",
       "C             1        1\n",
       "F             2        2"
      ]
     },
     "execution_count": 26,
     "metadata": {},
     "output_type": "execute_result"
    }
   ],
   "source": [
    "df[df['Refunded']].groupby('Product')[['Region','Product']].count()"
   ]
  },
  {
   "cell_type": "code",
   "execution_count": 30,
   "id": "c531f821",
   "metadata": {},
   "outputs": [
    {
     "data": {
      "text/plain": [
       "2    82\n",
       "1    68\n",
       "Name: Registered At, dtype: int64"
      ]
     },
     "execution_count": 30,
     "metadata": {},
     "output_type": "execute_result"
    }
   ],
   "source": [
    "df['Registered At'].dt.month.value_counts()"
   ]
  },
  {
   "cell_type": "code",
   "execution_count": 25,
   "id": "fdb5e382",
   "metadata": {},
   "outputs": [
    {
     "data": {
      "text/plain": [
       "Region\n",
       "Central    3\n",
       "East       2\n",
       "North      1\n",
       "South      1\n",
       "Name: Product, dtype: int64"
      ]
     },
     "execution_count": 25,
     "metadata": {},
     "output_type": "execute_result"
    }
   ],
   "source": [
    "df[df['Refunded']].groupby('Region')['Product'].count()"
   ]
  },
  {
   "cell_type": "code",
   "execution_count": 57,
   "id": "6fab44ff",
   "metadata": {},
   "outputs": [
    {
     "data": {
      "text/html": [
       "<div>\n",
       "<style scoped>\n",
       "    .dataframe tbody tr th:only-of-type {\n",
       "        vertical-align: middle;\n",
       "    }\n",
       "\n",
       "    .dataframe tbody tr th {\n",
       "        vertical-align: top;\n",
       "    }\n",
       "\n",
       "    .dataframe thead th {\n",
       "        text-align: right;\n",
       "    }\n",
       "</style>\n",
       "<table border=\"1\" class=\"dataframe\">\n",
       "  <thead>\n",
       "    <tr style=\"text-align: right;\">\n",
       "      <th></th>\n",
       "      <th>Region</th>\n",
       "      <th>Origin</th>\n",
       "      <th>count</th>\n",
       "    </tr>\n",
       "  </thead>\n",
       "  <tbody>\n",
       "    <tr>\n",
       "      <th>0</th>\n",
       "      <td>Central</td>\n",
       "      <td>social</td>\n",
       "      <td>9</td>\n",
       "    </tr>\n",
       "    <tr>\n",
       "      <th>8</th>\n",
       "      <td>East</td>\n",
       "      <td>organic_search</td>\n",
       "      <td>11</td>\n",
       "    </tr>\n",
       "    <tr>\n",
       "      <th>16</th>\n",
       "      <td>North</td>\n",
       "      <td>organic_search</td>\n",
       "      <td>7</td>\n",
       "    </tr>\n",
       "    <tr>\n",
       "      <th>24</th>\n",
       "      <td>South</td>\n",
       "      <td>social</td>\n",
       "      <td>6</td>\n",
       "    </tr>\n",
       "    <tr>\n",
       "      <th>33</th>\n",
       "      <td>West</td>\n",
       "      <td>paid_search</td>\n",
       "      <td>7</td>\n",
       "    </tr>\n",
       "  </tbody>\n",
       "</table>\n",
       "</div>"
      ],
      "text/plain": [
       "     Region          Origin  count\n",
       "0   Central          social      9\n",
       "8      East  organic_search     11\n",
       "16    North  organic_search      7\n",
       "24    South          social      6\n",
       "33     West     paid_search      7"
      ]
     },
     "execution_count": 57,
     "metadata": {},
     "output_type": "execute_result"
    }
   ],
   "source": [
    "value_counts_df = df.groupby('Region')['Origin'].value_counts().reset_index(name='count')\n",
    "idx = value_counts_df.groupby('Region')['count'].idxmax()\n",
    "value_counts_df.loc[idx]"
   ]
  },
  {
   "cell_type": "code",
   "execution_count": 60,
   "id": "118e23c5",
   "metadata": {},
   "outputs": [
    {
     "data": {
      "text/plain": [
       "array(['referral', 'display', 'social', 'other', 'paid_search', 'unknown',\n",
       "       'email', 'direct_traffic', 'organic_search'], dtype=object)"
      ]
     },
     "execution_count": 60,
     "metadata": {},
     "output_type": "execute_result"
    }
   ],
   "source": [
    "df['Origin'].unique()"
   ]
  },
  {
   "cell_type": "code",
   "execution_count": 62,
   "id": "9693806a",
   "metadata": {},
   "outputs": [],
   "source": [
    "# Define the mapping\n",
    "mapping = {\n",
    "    'direct_traffic': 'Organic',\n",
    "    'referral': 'Organic',\n",
    "    'organic_search': 'Organic'\n",
    "}\n",
    "\n",
    "# Apply the mapping to the 'Origin' column\n",
    "df['Origin'] = df['Origin'].apply(lambda x: mapping.get(x, 'Paid'))"
   ]
  },
  {
   "cell_type": "code",
   "execution_count": 63,
   "id": "22532f5d",
   "metadata": {},
   "outputs": [
    {
     "data": {
      "text/plain": [
       "Paid       100\n",
       "Organic     50\n",
       "Name: Origin, dtype: int64"
      ]
     },
     "execution_count": 63,
     "metadata": {},
     "output_type": "execute_result"
    }
   ],
   "source": [
    "df['Origin'].value_counts()"
   ]
  },
  {
   "cell_type": "code",
   "execution_count": 64,
   "id": "20f2927e",
   "metadata": {},
   "outputs": [
    {
     "name": "stderr",
     "output_type": "stream",
     "text": [
      "C:\\Users\\saira\\AppData\\Local\\Temp\\ipykernel_8196\\1134722465.py:1: FutureWarning: The default value of numeric_only in DataFrame.corr is deprecated. In a future version, it will default to False. Select only valid columns or specify the value of numeric_only to silence this warning.\n",
      "  df.corr()\n"
     ]
    },
    {
     "data": {
      "text/html": [
       "<div>\n",
       "<style scoped>\n",
       "    .dataframe tbody tr th:only-of-type {\n",
       "        vertical-align: middle;\n",
       "    }\n",
       "\n",
       "    .dataframe tbody tr th {\n",
       "        vertical-align: top;\n",
       "    }\n",
       "\n",
       "    .dataframe thead th {\n",
       "        text-align: right;\n",
       "    }\n",
       "</style>\n",
       "<table border=\"1\" class=\"dataframe\">\n",
       "  <thead>\n",
       "    <tr style=\"text-align: right;\">\n",
       "      <th></th>\n",
       "      <th>Order ID</th>\n",
       "      <th>Sales</th>\n",
       "      <th>Refunded</th>\n",
       "    </tr>\n",
       "  </thead>\n",
       "  <tbody>\n",
       "    <tr>\n",
       "      <th>Order ID</th>\n",
       "      <td>1.000000</td>\n",
       "      <td>-0.000160</td>\n",
       "      <td>-0.055964</td>\n",
       "    </tr>\n",
       "    <tr>\n",
       "      <th>Sales</th>\n",
       "      <td>-0.000160</td>\n",
       "      <td>1.000000</td>\n",
       "      <td>-0.010794</td>\n",
       "    </tr>\n",
       "    <tr>\n",
       "      <th>Refunded</th>\n",
       "      <td>-0.055964</td>\n",
       "      <td>-0.010794</td>\n",
       "      <td>1.000000</td>\n",
       "    </tr>\n",
       "  </tbody>\n",
       "</table>\n",
       "</div>"
      ],
      "text/plain": [
       "          Order ID     Sales  Refunded\n",
       "Order ID  1.000000 -0.000160 -0.055964\n",
       "Sales    -0.000160  1.000000 -0.010794\n",
       "Refunded -0.055964 -0.010794  1.000000"
      ]
     },
     "execution_count": 64,
     "metadata": {},
     "output_type": "execute_result"
    }
   ],
   "source": [
    "# df.corr()"
   ]
  },
  {
   "cell_type": "code",
   "execution_count": 68,
   "id": "cc68ec74",
   "metadata": {},
   "outputs": [
    {
     "data": {
      "text/plain": [
       "Kivell      15\n",
       "Smith       15\n",
       "Jack        14\n",
       "Jardine     13\n",
       "Morgan      11\n",
       "Thompson    10\n",
       "Sorvina      9\n",
       "James        9\n",
       "Andrew       8\n",
       "Jones        7\n",
       "Amy          7\n",
       "Gill         7\n",
       "Anny         7\n",
       "Daisy        6\n",
       "Rebecca      4\n",
       "Mack         3\n",
       "Elena        2\n",
       "Jonshon      1\n",
       "Isle         1\n",
       "Mathew       1\n",
       "Name: Customer Name, dtype: int64"
      ]
     },
     "execution_count": 68,
     "metadata": {},
     "output_type": "execute_result"
    }
   ],
   "source": [
    "df['Customer Name'].value_counts()"
   ]
  },
  {
   "cell_type": "code",
   "execution_count": 72,
   "id": "5e22c95d",
   "metadata": {},
   "outputs": [
    {
     "data": {
      "text/plain": [
       "Customer Name  Region \n",
       "Smith          Central    15\n",
       "Kivell         East       15\n",
       "Jack           West       14\n",
       "Jardine        East       13\n",
       "Morgan         North      11\n",
       "Thompson       South      10\n",
       "Sorvina        West        9\n",
       "James          North       9\n",
       "Andrew         West        8\n",
       "Amy            South       7\n",
       "Gill           East        7\n",
       "Anny           Central     7\n",
       "Jones          South       7\n",
       "Daisy          North       6\n",
       "Rebecca        East        4\n",
       "Mack           Central     3\n",
       "Elena          Central     2\n",
       "Isle           East        1\n",
       "Jonshon        Central     1\n",
       "Mathew         Central     1\n",
       "Name: Order ID, dtype: int64"
      ]
     },
     "execution_count": 72,
     "metadata": {},
     "output_type": "execute_result"
    }
   ],
   "source": [
    "df.groupby(['Customer Name','Region'])['Order ID'].count().sort_values(ascending = False)"
   ]
  },
  {
   "cell_type": "code",
   "execution_count": 78,
   "id": "dd399ce7",
   "metadata": {},
   "outputs": [
    {
     "data": {
      "text/html": [
       "<div>\n",
       "<style scoped>\n",
       "    .dataframe tbody tr th:only-of-type {\n",
       "        vertical-align: middle;\n",
       "    }\n",
       "\n",
       "    .dataframe tbody tr th {\n",
       "        vertical-align: top;\n",
       "    }\n",
       "\n",
       "    .dataframe thead th {\n",
       "        text-align: right;\n",
       "    }\n",
       "</style>\n",
       "<table border=\"1\" class=\"dataframe\">\n",
       "  <thead>\n",
       "    <tr style=\"text-align: right;\">\n",
       "      <th></th>\n",
       "      <th>Refunded</th>\n",
       "      <th>Product</th>\n",
       "      <th>count</th>\n",
       "    </tr>\n",
       "  </thead>\n",
       "  <tbody>\n",
       "    <tr>\n",
       "      <th>0</th>\n",
       "      <td>True</td>\n",
       "      <td>A</td>\n",
       "      <td>1</td>\n",
       "    </tr>\n",
       "    <tr>\n",
       "      <th>1</th>\n",
       "      <td>True</td>\n",
       "      <td>B</td>\n",
       "      <td>3</td>\n",
       "    </tr>\n",
       "    <tr>\n",
       "      <th>2</th>\n",
       "      <td>True</td>\n",
       "      <td>C</td>\n",
       "      <td>1</td>\n",
       "    </tr>\n",
       "    <tr>\n",
       "      <th>3</th>\n",
       "      <td>True</td>\n",
       "      <td>F</td>\n",
       "      <td>2</td>\n",
       "    </tr>\n",
       "  </tbody>\n",
       "</table>\n",
       "</div>"
      ],
      "text/plain": [
       "   Refunded Product  count\n",
       "0      True       A      1\n",
       "1      True       B      3\n",
       "2      True       C      1\n",
       "3      True       F      2"
      ]
     },
     "execution_count": 78,
     "metadata": {},
     "output_type": "execute_result"
    }
   ],
   "source": [
    "df[df['Refunded']].groupby(['Refunded', 'Product']).size().reset_index(name='count')"
   ]
  },
  {
   "cell_type": "code",
   "execution_count": 80,
   "id": "45f72d6d",
   "metadata": {},
   "outputs": [
    {
     "data": {
      "text/html": [
       "<div>\n",
       "<style scoped>\n",
       "    .dataframe tbody tr th:only-of-type {\n",
       "        vertical-align: middle;\n",
       "    }\n",
       "\n",
       "    .dataframe tbody tr th {\n",
       "        vertical-align: top;\n",
       "    }\n",
       "\n",
       "    .dataframe thead th {\n",
       "        text-align: right;\n",
       "    }\n",
       "</style>\n",
       "<table border=\"1\" class=\"dataframe\">\n",
       "  <thead>\n",
       "    <tr style=\"text-align: right;\">\n",
       "      <th></th>\n",
       "      <th>Region</th>\n",
       "      <th>Product</th>\n",
       "      <th>count</th>\n",
       "    </tr>\n",
       "  </thead>\n",
       "  <tbody>\n",
       "    <tr>\n",
       "      <th>0</th>\n",
       "      <td>Central</td>\n",
       "      <td>A</td>\n",
       "      <td>1</td>\n",
       "    </tr>\n",
       "    <tr>\n",
       "      <th>1</th>\n",
       "      <td>Central</td>\n",
       "      <td>B</td>\n",
       "      <td>1</td>\n",
       "    </tr>\n",
       "    <tr>\n",
       "      <th>2</th>\n",
       "      <td>Central</td>\n",
       "      <td>F</td>\n",
       "      <td>1</td>\n",
       "    </tr>\n",
       "    <tr>\n",
       "      <th>3</th>\n",
       "      <td>East</td>\n",
       "      <td>B</td>\n",
       "      <td>1</td>\n",
       "    </tr>\n",
       "    <tr>\n",
       "      <th>4</th>\n",
       "      <td>East</td>\n",
       "      <td>F</td>\n",
       "      <td>1</td>\n",
       "    </tr>\n",
       "    <tr>\n",
       "      <th>5</th>\n",
       "      <td>North</td>\n",
       "      <td>C</td>\n",
       "      <td>1</td>\n",
       "    </tr>\n",
       "    <tr>\n",
       "      <th>6</th>\n",
       "      <td>South</td>\n",
       "      <td>B</td>\n",
       "      <td>1</td>\n",
       "    </tr>\n",
       "  </tbody>\n",
       "</table>\n",
       "</div>"
      ],
      "text/plain": [
       "    Region Product  count\n",
       "0  Central       A      1\n",
       "1  Central       B      1\n",
       "2  Central       F      1\n",
       "3     East       B      1\n",
       "4     East       F      1\n",
       "5    North       C      1\n",
       "6    South       B      1"
      ]
     },
     "execution_count": 80,
     "metadata": {},
     "output_type": "execute_result"
    }
   ],
   "source": [
    "df[df['Refunded']].groupby(['Region','Product']).size().reset_index(name='count')"
   ]
  },
  {
   "cell_type": "code",
   "execution_count": 81,
   "id": "831308b5",
   "metadata": {},
   "outputs": [
    {
     "data": {
      "text/html": [
       "<div>\n",
       "<style scoped>\n",
       "    .dataframe tbody tr th:only-of-type {\n",
       "        vertical-align: middle;\n",
       "    }\n",
       "\n",
       "    .dataframe tbody tr th {\n",
       "        vertical-align: top;\n",
       "    }\n",
       "\n",
       "    .dataframe thead th {\n",
       "        text-align: right;\n",
       "    }\n",
       "</style>\n",
       "<table border=\"1\" class=\"dataframe\">\n",
       "  <thead>\n",
       "    <tr style=\"text-align: right;\">\n",
       "      <th></th>\n",
       "      <th>Region</th>\n",
       "      <th>count</th>\n",
       "    </tr>\n",
       "  </thead>\n",
       "  <tbody>\n",
       "    <tr>\n",
       "      <th>0</th>\n",
       "      <td>Central</td>\n",
       "      <td>3</td>\n",
       "    </tr>\n",
       "    <tr>\n",
       "      <th>1</th>\n",
       "      <td>East</td>\n",
       "      <td>2</td>\n",
       "    </tr>\n",
       "    <tr>\n",
       "      <th>2</th>\n",
       "      <td>North</td>\n",
       "      <td>1</td>\n",
       "    </tr>\n",
       "    <tr>\n",
       "      <th>3</th>\n",
       "      <td>South</td>\n",
       "      <td>1</td>\n",
       "    </tr>\n",
       "  </tbody>\n",
       "</table>\n",
       "</div>"
      ],
      "text/plain": [
       "    Region  count\n",
       "0  Central      3\n",
       "1     East      2\n",
       "2    North      1\n",
       "3    South      1"
      ]
     },
     "execution_count": 81,
     "metadata": {},
     "output_type": "execute_result"
    }
   ],
   "source": [
    "df[df['Refunded']].groupby('Region').size().reset_index(name='count')"
   ]
  },
  {
   "cell_type": "code",
   "execution_count": 92,
   "id": "c133afaf",
   "metadata": {},
   "outputs": [],
   "source": [
    "df_agg = df.groupby('Product').agg({'Sales':'sum','Product':'count'}).rename(columns = {'Sales':'Total Sales','Product':'Number of Orders'})"
   ]
  },
  {
   "cell_type": "code",
   "execution_count": 97,
   "id": "9ba0fb18",
   "metadata": {},
   "outputs": [
    {
     "data": {
      "text/plain": [
       "Product\n",
       "A    411.388889\n",
       "B    349.285714\n",
       "C    274.772727\n",
       "D    248.000000\n",
       "E    318.571429\n",
       "F    263.125000\n",
       "G    182.916667\n",
       "dtype: float64"
      ]
     },
     "execution_count": 97,
     "metadata": {},
     "output_type": "execute_result"
    }
   ],
   "source": [
    "avg_order_value =df_agg['Total Sales']/df_agg['Number of Orders']\n",
    "\n",
    "avg_order_value"
   ]
  },
  {
   "cell_type": "code",
   "execution_count": 118,
   "id": "8d17e537",
   "metadata": {},
   "outputs": [
    {
     "name": "stdout",
     "output_type": "stream",
     "text": [
      "Region : South\n",
      "Product : A\n",
      "Sales Values: [500 500 500 235]\n",
      "\n",
      "Region : South\n",
      "Product : B\n",
      "Sales Values: [400 350 400 400]\n",
      "\n",
      "Region : South\n",
      "Product : G\n",
      "Sales Values: [350 100 100]\n",
      "\n",
      "Region : South\n",
      "Product : F\n",
      "Sales Values: [500 200 200 200 200 410]\n",
      "\n",
      "Region : South\n",
      "Product : D\n",
      "Sales Values: [350]\n",
      "\n",
      "Region : South\n",
      "Product : E\n",
      "Sales Values: [220]\n",
      "\n",
      "Region : South\n",
      "Product : C\n",
      "Sales Values: [110 300 520 350 300]\n",
      "\n",
      "Region : East\n",
      "Product : A\n",
      "Sales Values: [350 120 500 500 500]\n",
      "\n",
      "Region : East\n",
      "Product : B\n",
      "Sales Values: [400 320 210 400 350 300 400 210 400 135]\n",
      "\n",
      "Region : East\n",
      "Product : G\n",
      "Sales Values: [550 110 210 350 120 130 105]\n",
      "\n",
      "Region : East\n",
      "Product : F\n",
      "Sales Values: [350 200 200 320 200 335]\n",
      "\n",
      "Region : East\n",
      "Product : D\n",
      "Sales Values: [250 250]\n",
      "\n",
      "Region : East\n",
      "Product : E\n",
      "Sales Values: [200 220 550 550 205]\n",
      "\n",
      "Region : East\n",
      "Product : C\n",
      "Sales Values: [320 300 300 320 220]\n",
      "\n",
      "Region : North\n",
      "Product : A\n",
      "Sales Values: [520 210 300]\n",
      "\n",
      "Region : North\n",
      "Product : B\n",
      "Sales Values: [400 400 320 350]\n",
      "\n",
      "Region : North\n",
      "Product : G\n",
      "Sales Values: [100 300 300 100 100]\n",
      "\n",
      "Region : North\n",
      "Product : F\n",
      "Sales Values: [200 200 520 320 220]\n",
      "\n",
      "Region : North\n",
      "Product : D\n",
      "Sales Values: [250 250 125 250 250]\n",
      "\n",
      "Region : North\n",
      "Product : E\n",
      "Sales Values: [350 120]\n",
      "\n",
      "Region : North\n",
      "Product : C\n",
      "Sales Values: [210 110]\n",
      "\n",
      "Region : West\n",
      "Product : A\n",
      "Sales Values: [500 500 300]\n",
      "\n",
      "Region : West\n",
      "Product : B\n",
      "Sales Values: [400 400 500]\n",
      "\n",
      "Region : West\n",
      "Product : G\n",
      "Sales Values: [200 220 320 100 125]\n",
      "\n",
      "Region : West\n",
      "Product : F\n",
      "Sales Values: [200 320 220]\n",
      "\n",
      "Region : West\n",
      "Product : D\n",
      "Sales Values: [320 100 250 250 320 250 210 225]\n",
      "\n",
      "Region : West\n",
      "Product : E\n",
      "Sales Values: [225 520 220 550]\n",
      "\n",
      "Region : West\n",
      "Product : C\n",
      "Sales Values: [110 220 320 350 425]\n",
      "\n",
      "Region : Central\n",
      "Product : A\n",
      "Sales Values: [350 500 520]\n",
      "\n",
      "Region : Central\n",
      "Product : B\n",
      "Sales Values: [250 400 310 300 325 400 350]\n",
      "\n",
      "Region : Central\n",
      "Product : G\n",
      "Sales Values: [100 100 100 100]\n",
      "\n",
      "Region : Central\n",
      "Product : F\n",
      "Sales Values: [200 200 200 200]\n",
      "\n",
      "Region : Central\n",
      "Product : D\n",
      "Sales Values: [250 310 250 250]\n",
      "\n",
      "Region : Central\n",
      "Product : E\n",
      "Sales Values: [320 210]\n",
      "\n",
      "Region : Central\n",
      "Product : C\n",
      "Sales Values: [110 200 320 520 110]\n",
      "\n"
     ]
    }
   ],
   "source": [
    "# Checking if a given product has the same value in the same region and how it differs across different regions\n",
    "\n",
    "regions = df['Region'].unique()\n",
    "products = df['Product'].unique()\n",
    "\n",
    "for region in regions:\n",
    "    for product in products:\n",
    "        sales_values = df[(df['Region'] == region)&(df['Product']==product)]['Sales'].values\n",
    "        print(f\"Region : {region}\")\n",
    "        print(f\"Product : {product}\")\n",
    "        print(\"Sales Values:\", sales_values)\n",
    "        print()"
   ]
  },
  {
   "cell_type": "code",
   "execution_count": 124,
   "id": "fed781d4",
   "metadata": {},
   "outputs": [
    {
     "name": "stdout",
     "output_type": "stream",
     "text": [
      "    Product  Sales\n",
      "79        A    350\n",
      "134       A    500\n",
      "137       A    520\n",
      "    Product  Sales\n",
      "4         B    250\n",
      "8         B    400\n",
      "17        B    310\n",
      "52        B    300\n",
      "73        B    325\n",
      "96        B    400\n",
      "133       B    350\n",
      "   Product  Sales\n",
      "38       G    100\n",
      "55       G    100\n",
      "66       G    100\n",
      "80       G    100\n",
      "   Product  Sales\n",
      "19       F    200\n",
      "24       F    200\n",
      "40       F    200\n",
      "83       F    200\n",
      "    Product  Sales\n",
      "33        D    250\n",
      "105       D    310\n",
      "109       D    250\n",
      "120       D    250\n",
      "   Product  Sales\n",
      "43       E    320\n",
      "71       E    210\n",
      "    Product  Sales\n",
      "51        C    110\n",
      "122       C    200\n",
      "128       C    320\n",
      "129       C    520\n",
      "146       C    110\n"
     ]
    }
   ],
   "source": [
    "for product in products :\n",
    "    print(df[(df['Region']=='Central')&(df['Product']==product)][['Product','Sales']]) \n",
    "    \n",
    "# Only Product G and F in the Central region has the same price for each product "
   ]
  },
  {
   "cell_type": "code",
   "execution_count": null,
   "id": "3ea6327c",
   "metadata": {},
   "outputs": [],
   "source": []
  }
 ],
 "metadata": {
  "kernelspec": {
   "display_name": "Python 3 (ipykernel)",
   "language": "python",
   "name": "python3"
  },
  "language_info": {
   "codemirror_mode": {
    "name": "ipython",
    "version": 3
   },
   "file_extension": ".py",
   "mimetype": "text/x-python",
   "name": "python",
   "nbconvert_exporter": "python",
   "pygments_lexer": "ipython3",
   "version": "3.11.4"
  }
 },
 "nbformat": 4,
 "nbformat_minor": 5
}
